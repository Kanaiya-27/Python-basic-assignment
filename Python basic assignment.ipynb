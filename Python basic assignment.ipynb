{
 "cells": [
  {
   "cell_type": "markdown",
   "id": "662429dd-66e7-4a44-804f-a1424238b772",
   "metadata": {},
   "source": [
    "Ans 1) Conventions for Python varibles\n",
    "           #- A Python variable name can only contain alpha-numeric characters and underscores (A-z, 0-9, and _ ).\n",
    "           #- A Python variable name must start with a letter (A-z) or the underscore ( _ ) character but not with a number (0-9).\n",
    "           #- Variable in Python names are case-sensitive."
   ]
  },
  {
   "cell_type": "markdown",
   "id": "e1d07115-aa0c-4b20-bfb3-a70e585277dd",
   "metadata": {},
   "source": [
    "Ans 2) We are not allowed to use restircted keywords in python.If any of the restricted keywords is used as a variable, then we will get  Syntax Error displayed."
   ]
  },
  {
   "cell_type": "code",
   "execution_count": 1,
   "id": "f6f70088-aabe-4d7e-9a5f-acd326202324",
   "metadata": {},
   "outputs": [
    {
     "ename": "SyntaxError",
     "evalue": "cannot assign to True (2578290592.py, line 1)",
     "output_type": "error",
     "traceback": [
      "\u001b[0;36m  Cell \u001b[0;32mIn[1], line 1\u001b[0;36m\u001b[0m\n\u001b[0;31m    True=65\u001b[0m\n\u001b[0m    ^\u001b[0m\n\u001b[0;31mSyntaxError\u001b[0m\u001b[0;31m:\u001b[0m cannot assign to True\n"
     ]
    }
   ],
   "source": [
    "True=65"
   ]
  },
  {
   "cell_type": "code",
   "execution_count": null,
   "id": "6bc71d27-d7ce-4c8b-9153-ed1b171f4ecd",
   "metadata": {},
   "outputs": [],
   "source": [
    "Ans 3) Yes, we can declare a string as a variable name"
   ]
  },
  {
   "cell_type": "code",
   "execution_count": 17,
   "id": "4223c82e-cd02-4b0a-b5ee-eb826acd6edb",
   "metadata": {},
   "outputs": [],
   "source": [
    "myVar=20"
   ]
  },
  {
   "cell_type": "code",
   "execution_count": 20,
   "id": "968a365c-7953-46a6-95b7-61aeb52cd534",
   "metadata": {},
   "outputs": [
    {
     "name": "stdout",
     "output_type": "stream",
     "text": [
      "the value of myVar is : 20\n"
     ]
    }
   ],
   "source": [
    "print(\"the value of myVar is :\", myVar)"
   ]
  },
  {
   "cell_type": "code",
   "execution_count": null,
   "id": "d1f7678e-dcda-41c9-9d2c-21375cc2746e",
   "metadata": {},
   "outputs": [],
   "source": [
    "Ans 4) \"_\" may be used to as assign temporary variable or the variables that will not be used later in program"
   ]
  },
  {
   "cell_type": "code",
   "execution_count": 30,
   "id": "2f581dc6-cb7a-4265-9be7-48246f96ede4",
   "metadata": {},
   "outputs": [],
   "source": [
    "year, month, _ = (2023, 4, 16)"
   ]
  },
  {
   "cell_type": "code",
   "execution_count": 31,
   "id": "52c824ed-5eea-4ab2-bd89-624e48818762",
   "metadata": {},
   "outputs": [
    {
     "name": "stdout",
     "output_type": "stream",
     "text": [
      "16\n"
     ]
    }
   ],
   "source": [
    "print(_)"
   ]
  },
  {
   "cell_type": "markdown",
   "id": "b486721f-fb22-4671-a2ec-3958ce17b5e4",
   "metadata": {},
   "source": [
    "Ans 5) Variables in python are dynamic"
   ]
  },
  {
   "cell_type": "code",
   "execution_count": 10,
   "id": "0c15737e-1fb5-407a-849f-226eb05197ba",
   "metadata": {},
   "outputs": [],
   "source": [
    "x = 1"
   ]
  },
  {
   "cell_type": "code",
   "execution_count": 11,
   "id": "85e1f843-7b38-4652-807a-c934c5c06911",
   "metadata": {},
   "outputs": [
    {
     "data": {
      "text/plain": [
       "1"
      ]
     },
     "execution_count": 11,
     "metadata": {},
     "output_type": "execute_result"
    }
   ],
   "source": [
    "x"
   ]
  },
  {
   "cell_type": "code",
   "execution_count": 12,
   "id": "42368988-fb35-4aba-a196-1adf32f23904",
   "metadata": {},
   "outputs": [],
   "source": [
    "x=\"Kanaiya\""
   ]
  },
  {
   "cell_type": "code",
   "execution_count": 13,
   "id": "c02406df-1876-4441-bcc6-972d6105b22a",
   "metadata": {},
   "outputs": [
    {
     "data": {
      "text/plain": [
       "'Kanaiya'"
      ]
     },
     "execution_count": 13,
     "metadata": {},
     "output_type": "execute_result"
    }
   ],
   "source": [
    "x"
   ]
  }
 ],
 "metadata": {
  "kernelspec": {
   "display_name": "Python 3 (ipykernel)",
   "language": "python",
   "name": "python3"
  },
  "language_info": {
   "codemirror_mode": {
    "name": "ipython",
    "version": 3
   },
   "file_extension": ".py",
   "mimetype": "text/x-python",
   "name": "python",
   "nbconvert_exporter": "python",
   "pygments_lexer": "ipython3",
   "version": "3.10.8"
  }
 },
 "nbformat": 4,
 "nbformat_minor": 5
}
